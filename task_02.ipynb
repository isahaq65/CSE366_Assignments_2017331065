{
  "nbformat": 4,
  "nbformat_minor": 0,
  "metadata": {
    "colab": {
      "name": "task#02.ipynb",
      "provenance": [],
      "collapsed_sections": []
    },
    "kernelspec": {
      "name": "python3",
      "display_name": "Python 3"
    },
    "language_info": {
      "name": "python"
    }
  },
  "cells": [
    {
      "cell_type": "markdown",
      "metadata": {
        "id": "wxaLeOowWEj2"
      },
      "source": [
        "Md Isahaq Ali 2017331065"
      ]
    },
    {
      "cell_type": "code",
      "metadata": {
        "id": "z1W6L9vgWKLG"
      },
      "source": [
        "import matplotlib.pyplot as plt\n",
        "import numpy as np\n",
        "import math"
      ],
      "execution_count": null,
      "outputs": []
    },
    {
      "cell_type": "markdown",
      "metadata": {
        "id": "35c1sfasWYwh"
      },
      "source": [
        "#Simulation the digital-digital conversion techniques"
      ]
    },
    {
      "cell_type": "markdown",
      "metadata": {
        "id": "6aOpQsfPXRye"
      },
      "source": [
        "1. (i) line encoding - unipolar nrz"
      ]
    },
    {
      "cell_type": "code",
      "metadata": {
        "colab": {
          "base_uri": "https://localhost:8080/",
          "height": 320
        },
        "id": "kBEVg8RvbFxc",
        "outputId": "e8db2a55-a3c7-49bc-922d-7668c6460780"
      },
      "source": [
        "\n",
        "bit = np.array([1, 0, 1, 1, 0, 1, 0, 0, 1, 0, 1])  # input bit\n",
        "timeData = 10e-6                                   # time per unit data element\n",
        "bitRate = 1/timeData   \n",
        "f=4                                 \n",
        "fs = f*bitRate                                      # sampling frequency \n",
        " \n",
        "time = np.linspace(0,timeData,100)\n",
        "\n",
        "bitlen = len(bit)                                  #bitlength\n",
        "\n",
        "x = np.array([])\n",
        "for i in range(bitlen):\n",
        "  temp = bit[i]* np.ones(len(time))\n",
        "  x = np.append(x, temp)\n",
        "ts = np.linspace(0,bitlen*timeData,len(x))\n",
        "\n",
        "plt.figure(figsize =(15, 5))\n",
        "plt.plot(ts, x)\n",
        "\n",
        "plt.show()"
      ],
      "execution_count": null,
      "outputs": [
        {
          "output_type": "display_data",
          "data": {
            "image/png": "[encoded data removed]",
            "text/plain": [
              "<Figure size 1080x360 with 1 Axes>"
            ]
          },
          "metadata": {
            "needs_background": "light"
          }
        }
      ]
    },
    {
      "cell_type": "markdown",
      "metadata": {
        "id": "stAmlSm5dhsw"
      },
      "source": [
        "(ii) line decoding unipolar nrz\n"
      ]
    },
    {
      "cell_type": "code",
      "metadata": {
        "colab": {
          "base_uri": "https://localhost:8080/"
        },
        "id": "ZrDA1UwBd3e-",
        "outputId": "e3a84b96-bfcc-42e5-c9b7-ab35414e2914"
      },
      "source": [
        "output = []\n",
        "c = 0\n",
        "for i in range(len(ts)):\n",
        "  if ts[i]*bitRate > c:\n",
        "    c = c+ 1\n",
        "    output.append(int(x[i]))\n",
        "\n",
        "print(output)"
      ],
      "execution_count": null,
      "outputs": [
        {
          "output_type": "stream",
          "name": "stdout",
          "text": [
            "[1, 0, 1, 1, 0, 1, 0, 0, 1, 0, 1]\n"
          ]
        }
      ]
    },
    {
      "cell_type": "markdown",
      "metadata": {
        "id": "NbjkR_gte-hc"
      },
      "source": [
        "# block coding 4B/5B"
      ]
    },
    {
      "cell_type": "code",
      "metadata": {
        "id": "Jdb4mAwAuobG"
      },
      "source": [
        "mb = 4\n",
        "nb = 5\n",
        "code_mapping = {\n",
        "\"0000\": \"11110\",\n",
        "\"0001\": \"01001\",\n",
        "\"0010\": \"10100\",\n",
        "\"0011\": \"10101\",\n",
        "\"0100\": \"01010\",\n",
        "\"0101\": \"01011\",\n",
        "\"0110\": \"01110\",\n",
        "\"0111\": \"01111\",\n",
        "\"1000\": \"10010\",\n",
        "\"1001\": \"10011\",\n",
        "\"1010\": \"10110\",\n",
        "\"1011\": \"10111\",\n",
        "\"1100\": \"11010\",\n",
        "\"1101\": \"11011\",\n",
        "\"1110\": \"11100\",\n",
        "\"1111\": \"11101\",\n",
        "\"11110\": \"0000\",\n",
        "\"01001\": \"0001\",\n",
        "\"10100\": \"0010\",\n",
        "\"10101\": \"0011\",\n",
        "\"01010\": \"0100\",\n",
        "\"01011\": \"0101\",\n",
        "\"01110\": \"0110\",\n",
        "\"01111\": \"0111\",\n",
        "\"10010\": \"1000\",\n",
        "\"10011\": \"1001\",\n",
        "\"10110\": \"1010\",\n",
        "\"10111\": \"1011\",\n",
        "\"11010\": \"1100\",\n",
        "\"11011\": \"1101\",\n",
        "\"11100\": \"1110\",\n",
        "\"11101\": \"1111\"}\n",
        "\n",
        "\n",
        "\n",
        "\n",
        "def get_mapped_code(bits):\n",
        "    return code_mapping[\"\".join(map(str,bits))]\n",
        "\n",
        "\n",
        "  ##encode function\n",
        "\n",
        "def get_mb_nb_encoding(bits,mb,nb):\n",
        "  if len(bits) % mb != 0:\n",
        "    extra_len = (((len(bits)// mb) + 1) * mb) - len(bits)\n",
        "    extra = np.array(np.zeros(extra_len), dtype=int)\n",
        "    bits = np.append(bits, extra)\n",
        "  \n",
        "  encoded_bits_str = \"\"\n",
        "  for i in range(0, len(bits), mb):\n",
        "    encoded_bits_str += get_mapped_code(bits[i:i+mb])\n",
        "  encoded_bits_list = list(encoded_bits_str)\n",
        "  encoded_bits_map = map(int, encoded_bits_list)\n",
        "  encoded_bits = np.array(list(encoded_bits_map))\n",
        "  return encoded_bits\n",
        "\n",
        "\n",
        "##decode function\n",
        "\n",
        "def get_nb_mb_decoding(bits, mb, nb):\n",
        "  if len(bits) % nb != 0:\n",
        "    print(\"decoding not possible\")\n",
        "    return\n",
        "  decoded_bits_str = \"\"\n",
        "  for i in range(0, len(bits), nb):\n",
        "    decoded_bits_str += get_mapped_code(bits[i:i+nb])\n",
        "  # Convert the decoded bit string to list of bits\n",
        "  decoded_bits_list = list(decoded_bits_str)\n",
        "  decoded_bits_map = map(int, decoded_bits_list)\n",
        "  decoded_bits = np.array(list(decoded_bits_map))\n",
        "  return decoded_bits\n"
      ],
      "execution_count": null,
      "outputs": []
    },
    {
      "cell_type": "markdown",
      "metadata": {
        "id": "sWiEiml4ustX"
      },
      "source": [
        "4B/5B encoding"
      ]
    },
    {
      "cell_type": "code",
      "metadata": {
        "id": "V_bLAEWquUgO"
      },
      "source": [
        "\n",
        "bits = np.array([1, 0, 1, 1, 0, 1, 0, 0, 1, 0, 1], dtype=int) \n",
        "bits = get_MB_NB_Encoding(bits, mB, nB)"
      ],
      "execution_count": null,
      "outputs": []
    },
    {
      "cell_type": "markdown",
      "metadata": {
        "id": "gqB_2t2rvXEs"
      },
      "source": [
        "NRZ-I line encoding"
      ]
    },
    {
      "cell_type": "code",
      "metadata": {
        "colab": {
          "base_uri": "https://localhost:8080/",
          "height": 265
        },
        "id": "5vrBtMK1uWHb",
        "outputId": "1e5ab4cf-6518-4788-efc4-a9496f7da2aa"
      },
      "source": [
        "Time = 10e-6   \n",
        "bit_rate = 1/Time  \n",
        "Fs = 4*bit_rate    \n",
        "N = len(bits)   \n",
        "T = np.linspace(0,Time, mB * 100)\n",
        "\n",
        "x = np.array([])\n",
        "last_bit = 1\n",
        "for i in range(N):\n",
        "  if bits[i] == 1:\n",
        "    temp = (-1) * last_bit * np.ones(len(T))\n",
        "    last_bit = -last_bit\n",
        "  else:\n",
        "    temp = last_bit * np.ones(len(T))\n",
        "  x = np.append(x, temp)\n",
        "t = np.linspace(0,N*Time,len(x))\n",
        "\n",
        "plt.plot(t, x)\n",
        "plt.show()\n"
      ],
      "execution_count": null,
      "outputs": [
        {
          "output_type": "display_data",
          "data": {
            "image/png": "[encoded data removed]",
            "text/plain": [
              "<Figure size 432x288 with 1 Axes>"
            ]
          },
          "metadata": {
            "needs_background": "light"
          }
        }
      ]
    },
    {
      "cell_type": "markdown",
      "metadata": {
        "id": "sCCUe__NvpY9"
      },
      "source": [
        "NRZ-I line coding decoding"
      ]
    },
    {
      "cell_type": "code",
      "metadata": {
        "colab": {
          "base_uri": "https://localhost:8080/"
        },
        "id": "LTFuw-mevtWB",
        "outputId": "5483f807-4854-4c4d-c76c-91dce18c9694"
      },
      "source": [
        "output = []\n",
        "c = 0\n",
        "last_bit = 1\n",
        "for i in range(len(t)):\n",
        "  if t[i]*bit_rate > counter:\n",
        "    counter = c + 1\n",
        "    if x[i] != last_bit:\n",
        "      result.append(1)\n",
        "      last_bit=-last_bit\n",
        "    else:\n",
        "      result.append(0)\n",
        "\n",
        "print(result)"
      ],
      "execution_count": null,
      "outputs": [
        {
          "output_type": "stream",
          "name": "stdout",
          "text": [
            "[1, 0, 1, 1, 0, 1, 0, 0, 1, 0, 1]\n"
          ]
        }
      ]
    },
    {
      "cell_type": "markdown",
      "metadata": {
        "id": "I3IDxQ2RwA7L"
      },
      "source": [
        "4B/5B decoding"
      ]
    },
    {
      "cell_type": "code",
      "metadata": {
        "id": "avd4vX2YwO-7"
      },
      "source": [
        "decode = get_nb_mb_decoding(res,mb,nb);\n",
        "print(decode)"
      ],
      "execution_count": null,
      "outputs": []
    }
  ]
}